{
 "cells": [
  {
   "cell_type": "markdown",
   "metadata": {},
   "source": [
    "# Import Packages"
   ]
  },
  {
   "cell_type": "code",
   "execution_count": 1,
   "metadata": {
    "collapsed": true
   },
   "outputs": [],
   "source": [
    "import pandas as pd\n",
    "import numpy as np"
   ]
  },
  {
   "cell_type": "markdown",
   "metadata": {},
   "source": [
    "# Read Data"
   ]
  },
  {
   "cell_type": "code",
   "execution_count": 2,
   "metadata": {
    "collapsed": true
   },
   "outputs": [],
   "source": [
    "order = pd.read_csv('order.csv')"
   ]
  },
  {
   "cell_type": "code",
   "execution_count": 5,
   "metadata": {},
   "outputs": [
    {
     "data": {
      "text/plain": [
       "(29769, 33)"
      ]
     },
     "execution_count": 5,
     "metadata": {},
     "output_type": "execute_result"
    }
   ],
   "source": [
    "order.shape"
   ]
  },
  {
   "cell_type": "code",
   "execution_count": 7,
   "metadata": {},
   "outputs": [
    {
     "data": {
      "text/html": [
       "<div>\n",
       "<style>\n",
       "    .dataframe thead tr:only-child th {\n",
       "        text-align: right;\n",
       "    }\n",
       "\n",
       "    .dataframe thead th {\n",
       "        text-align: left;\n",
       "    }\n",
       "\n",
       "    .dataframe tbody tr th {\n",
       "        vertical-align: top;\n",
       "    }\n",
       "</style>\n",
       "<table border=\"1\" class=\"dataframe\">\n",
       "  <thead>\n",
       "    <tr style=\"text-align: right;\">\n",
       "      <th></th>\n",
       "      <th>Subtotal</th>\n",
       "      <th>Shipping</th>\n",
       "      <th>Taxes</th>\n",
       "      <th>Total</th>\n",
       "      <th>Discount Amount</th>\n",
       "      <th>Lineitem quantity</th>\n",
       "      <th>Lineitem price</th>\n",
       "      <th>Lineitem compare at price</th>\n",
       "      <th>Refunded Amount</th>\n",
       "      <th>Outstanding Balance</th>\n",
       "    </tr>\n",
       "  </thead>\n",
       "  <tbody>\n",
       "    <tr>\n",
       "      <th>count</th>\n",
       "      <td>13708.000000</td>\n",
       "      <td>13708.000000</td>\n",
       "      <td>13708.0</td>\n",
       "      <td>13708.000000</td>\n",
       "      <td>13708.00000</td>\n",
       "      <td>29769.000000</td>\n",
       "      <td>29769.000000</td>\n",
       "      <td>4047.000000</td>\n",
       "      <td>13708.000000</td>\n",
       "      <td>13708.000000</td>\n",
       "    </tr>\n",
       "    <tr>\n",
       "      <th>mean</th>\n",
       "      <td>95.419694</td>\n",
       "      <td>0.834257</td>\n",
       "      <td>0.0</td>\n",
       "      <td>96.231336</td>\n",
       "      <td>3.56015</td>\n",
       "      <td>1.202929</td>\n",
       "      <td>41.379677</td>\n",
       "      <td>15.464542</td>\n",
       "      <td>0.688422</td>\n",
       "      <td>0.004257</td>\n",
       "    </tr>\n",
       "    <tr>\n",
       "      <th>std</th>\n",
       "      <td>86.741371</td>\n",
       "      <td>2.060884</td>\n",
       "      <td>0.0</td>\n",
       "      <td>86.244652</td>\n",
       "      <td>10.98043</td>\n",
       "      <td>0.809011</td>\n",
       "      <td>24.778153</td>\n",
       "      <td>24.283752</td>\n",
       "      <td>10.666278</td>\n",
       "      <td>2.823362</td>\n",
       "    </tr>\n",
       "    <tr>\n",
       "      <th>min</th>\n",
       "      <td>0.000000</td>\n",
       "      <td>0.000000</td>\n",
       "      <td>0.0</td>\n",
       "      <td>0.000000</td>\n",
       "      <td>0.00000</td>\n",
       "      <td>1.000000</td>\n",
       "      <td>0.000000</td>\n",
       "      <td>0.000000</td>\n",
       "      <td>0.000000</td>\n",
       "      <td>-102.000000</td>\n",
       "    </tr>\n",
       "    <tr>\n",
       "      <th>25%</th>\n",
       "      <td>43.000000</td>\n",
       "      <td>0.000000</td>\n",
       "      <td>0.0</td>\n",
       "      <td>43.000000</td>\n",
       "      <td>0.00000</td>\n",
       "      <td>1.000000</td>\n",
       "      <td>30.000000</td>\n",
       "      <td>0.000000</td>\n",
       "      <td>0.000000</td>\n",
       "      <td>0.000000</td>\n",
       "    </tr>\n",
       "    <tr>\n",
       "      <th>50%</th>\n",
       "      <td>80.000000</td>\n",
       "      <td>0.000000</td>\n",
       "      <td>0.0</td>\n",
       "      <td>80.000000</td>\n",
       "      <td>0.00000</td>\n",
       "      <td>1.000000</td>\n",
       "      <td>43.000000</td>\n",
       "      <td>0.000000</td>\n",
       "      <td>0.000000</td>\n",
       "      <td>0.000000</td>\n",
       "    </tr>\n",
       "    <tr>\n",
       "      <th>75%</th>\n",
       "      <td>123.000000</td>\n",
       "      <td>0.000000</td>\n",
       "      <td>0.0</td>\n",
       "      <td>123.000000</td>\n",
       "      <td>0.00000</td>\n",
       "      <td>1.000000</td>\n",
       "      <td>48.000000</td>\n",
       "      <td>38.000000</td>\n",
       "      <td>0.000000</td>\n",
       "      <td>0.000000</td>\n",
       "    </tr>\n",
       "    <tr>\n",
       "      <th>max</th>\n",
       "      <td>2348.000000</td>\n",
       "      <td>9.000000</td>\n",
       "      <td>0.0</td>\n",
       "      <td>2348.000000</td>\n",
       "      <td>414.00000</td>\n",
       "      <td>40.000000</td>\n",
       "      <td>927.000000</td>\n",
       "      <td>88.000000</td>\n",
       "      <td>723.000000</td>\n",
       "      <td>279.500000</td>\n",
       "    </tr>\n",
       "  </tbody>\n",
       "</table>\n",
       "</div>"
      ],
      "text/plain": [
       "           Subtotal      Shipping    Taxes         Total  Discount Amount  \\\n",
       "count  13708.000000  13708.000000  13708.0  13708.000000      13708.00000   \n",
       "mean      95.419694      0.834257      0.0     96.231336          3.56015   \n",
       "std       86.741371      2.060884      0.0     86.244652         10.98043   \n",
       "min        0.000000      0.000000      0.0      0.000000          0.00000   \n",
       "25%       43.000000      0.000000      0.0     43.000000          0.00000   \n",
       "50%       80.000000      0.000000      0.0     80.000000          0.00000   \n",
       "75%      123.000000      0.000000      0.0    123.000000          0.00000   \n",
       "max     2348.000000      9.000000      0.0   2348.000000        414.00000   \n",
       "\n",
       "       Lineitem quantity  Lineitem price  Lineitem compare at price  \\\n",
       "count       29769.000000    29769.000000                4047.000000   \n",
       "mean            1.202929       41.379677                  15.464542   \n",
       "std             0.809011       24.778153                  24.283752   \n",
       "min             1.000000        0.000000                   0.000000   \n",
       "25%             1.000000       30.000000                   0.000000   \n",
       "50%             1.000000       43.000000                   0.000000   \n",
       "75%             1.000000       48.000000                  38.000000   \n",
       "max            40.000000      927.000000                  88.000000   \n",
       "\n",
       "       Refunded Amount  Outstanding Balance  \n",
       "count     13708.000000         13708.000000  \n",
       "mean          0.688422             0.004257  \n",
       "std          10.666278             2.823362  \n",
       "min           0.000000          -102.000000  \n",
       "25%           0.000000             0.000000  \n",
       "50%           0.000000             0.000000  \n",
       "75%           0.000000             0.000000  \n",
       "max         723.000000           279.500000  "
      ]
     },
     "execution_count": 7,
     "metadata": {},
     "output_type": "execute_result"
    }
   ],
   "source": [
    "order.describe()"
   ]
  },
  {
   "cell_type": "code",
   "execution_count": 6,
   "metadata": {},
   "outputs": [
    {
     "data": {
      "text/plain": [
       "Index([u'Name', u'Email', u'Financial Status', u'Paid at',\n",
       "       u'Fulfillment Status', u'Fulfilled at', u'Accepts Marketing',\n",
       "       u'Currency', u'Subtotal', u'Shipping', u'Taxes', u'Total',\n",
       "       u'Discount Code', u'Discount Amount', u'Shipping Method', u'Created at',\n",
       "       u'Lineitem quantity', u'Lineitem name', u'Lineitem price',\n",
       "       u'Lineitem compare at price', u'Lineitem sku',\n",
       "       u'Lineitem requires shipping', u'Lineitem taxable',\n",
       "       u'Lineitem fulfillment status', u'Billing Name', u'Billing Zip',\n",
       "       u'Billing Province', u'Billing Country', u'Cancelled at',\n",
       "       u'Payment Method', u'Refunded Amount', u'Outstanding Balance',\n",
       "       u'Location'],\n",
       "      dtype='object')"
      ]
     },
     "execution_count": 6,
     "metadata": {},
     "output_type": "execute_result"
    }
   ],
   "source": [
    "order.columns"
   ]
  },
  {
   "cell_type": "code",
   "execution_count": 8,
   "metadata": {},
   "outputs": [
    {
     "data": {
      "text/plain": [
       "Name                           29769\n",
       "Email                          25455\n",
       "Financial Status               13708\n",
       "Paid at                        13172\n",
       "Fulfillment Status             13708\n",
       "Fulfilled at                   13664\n",
       "Accepts Marketing              13708\n",
       "Currency                       13708\n",
       "Subtotal                       13708\n",
       "Shipping                       13708\n",
       "Taxes                          13708\n",
       "Total                          13708\n",
       "Discount Code                   3200\n",
       "Discount Amount                13708\n",
       "Shipping Method                 6508\n",
       "Created at                     29769\n",
       "Lineitem quantity              29769\n",
       "Lineitem name                  29769\n",
       "Lineitem price                 29769\n",
       "Lineitem compare at price       4047\n",
       "Lineitem sku                   29674\n",
       "Lineitem requires shipping     29769\n",
       "Lineitem taxable               29769\n",
       "Lineitem fulfillment status    29769\n",
       "Billing Name                   25455\n",
       "Billing Zip                     6532\n",
       "Billing Province                 390\n",
       "Billing Country                 6542\n",
       "Cancelled at                      22\n",
       "Payment Method                 13246\n",
       "Refunded Amount                13708\n",
       "Outstanding Balance            13708\n",
       "Location                        7198\n",
       "dtype: int64"
      ]
     },
     "execution_count": 8,
     "metadata": {},
     "output_type": "execute_result"
    }
   ],
   "source": [
    "order.count()"
   ]
  },
  {
   "cell_type": "code",
   "execution_count": 9,
   "metadata": {},
   "outputs": [
    {
     "data": {
      "text/plain": [
       "Name                            9950\n",
       "Email                           5280\n",
       "Financial Status                   4\n",
       "Paid at                        13165\n",
       "Fulfillment Status                 3\n",
       "Fulfilled at                   11732\n",
       "Accepts Marketing                  2\n",
       "Currency                           1\n",
       "Subtotal                         691\n",
       "Shipping                           4\n",
       "Taxes                              1\n",
       "Total                            703\n",
       "Discount Code                   1612\n",
       "Discount Amount                  157\n",
       "Shipping Method                   20\n",
       "Created at                     13700\n",
       "Lineitem quantity                 19\n",
       "Lineitem name                    517\n",
       "Lineitem price                   105\n",
       "Lineitem compare at price         32\n",
       "Lineitem sku                     300\n",
       "Lineitem requires shipping         2\n",
       "Lineitem taxable                   2\n",
       "Lineitem fulfillment status        3\n",
       "Billing Name                    5280\n",
       "Billing Zip                     3010\n",
       "Billing Province                  34\n",
       "Billing Country                   20\n",
       "Cancelled at                      22\n",
       "Payment Method                    23\n",
       "Refunded Amount                   91\n",
       "Outstanding Balance               11\n",
       "Location                           3\n",
       "dtype: int64"
      ]
     },
     "execution_count": 9,
     "metadata": {},
     "output_type": "execute_result"
    }
   ],
   "source": [
    "order.nunique()"
   ]
  },
  {
   "cell_type": "markdown",
   "metadata": {},
   "source": [
    "    Name: No use ?\n",
    "    Email: Email for this customer (1-5280)\n",
    "    Financial Status: paid, refunded, partially_refunded, pending\n",
    "    Paid at: year-month-date time\n",
    "    Fulfullment Status: fulfilled, partial ?, unfulfilled\n",
    "    Fulfulled at: year-month-date time\n",
    "    Accepts Marketing: boolean ?\n",
    "    Currency: SGD\n",
    "    Subtotal: order subtotal? why NA?\n",
    "    Shipping: 0, 5.5, 8, 9 what? ? ?\n",
    "    Taxes: 0\n",
    "    Total: subTotal + Shipping\n",
    "    Discount Code: ? ? ?\n",
    "    Discount Amount\n",
    "    Shipping Method\n",
    "    Created at: Order creation time?\n",
    "    Lineitem compare at price: ?\n",
    "    Lineitem fulfillment status: fulfilled, partial, unfulfilled\n",
    "    Billing Name: Name of customer\n",
    "    Cancelled at: only 22 orders are cancelled\n",
    "    Outstanding Balance: Total - Refunded Amount\n",
    "    Location: only three"
   ]
  },
  {
   "cell_type": "code",
   "execution_count": 23,
   "metadata": {},
   "outputs": [
    {
     "data": {
      "text/plain": [
       "0        fulfilled\n",
       "1        fulfilled\n",
       "2        fulfilled\n",
       "3        fulfilled\n",
       "4        fulfilled\n",
       "5          pending\n",
       "6          pending\n",
       "7          pending\n",
       "8          pending\n",
       "9          pending\n",
       "10         pending\n",
       "11         pending\n",
       "12       fulfilled\n",
       "13       fulfilled\n",
       "14       fulfilled\n",
       "15       fulfilled\n",
       "16       fulfilled\n",
       "17       fulfilled\n",
       "18       fulfilled\n",
       "19       fulfilled\n",
       "20       fulfilled\n",
       "21       fulfilled\n",
       "22       fulfilled\n",
       "23       fulfilled\n",
       "24       fulfilled\n",
       "25       fulfilled\n",
       "26       fulfilled\n",
       "27       fulfilled\n",
       "28       fulfilled\n",
       "29       fulfilled\n",
       "           ...    \n",
       "29739    fulfilled\n",
       "29740    fulfilled\n",
       "29741    fulfilled\n",
       "29742    fulfilled\n",
       "29743    fulfilled\n",
       "29744    fulfilled\n",
       "29745    fulfilled\n",
       "29746    fulfilled\n",
       "29747    fulfilled\n",
       "29748    fulfilled\n",
       "29749    fulfilled\n",
       "29750    fulfilled\n",
       "29751    fulfilled\n",
       "29752    fulfilled\n",
       "29753    fulfilled\n",
       "29754    fulfilled\n",
       "29755    fulfilled\n",
       "29756    fulfilled\n",
       "29757    fulfilled\n",
       "29758    fulfilled\n",
       "29759    fulfilled\n",
       "29760    fulfilled\n",
       "29761    fulfilled\n",
       "29762    fulfilled\n",
       "29763    fulfilled\n",
       "29764    fulfilled\n",
       "29765    fulfilled\n",
       "29766    fulfilled\n",
       "29767    fulfilled\n",
       "29768    fulfilled\n",
       "Name: Lineitem fulfillment status, Length: 29769, dtype: object"
      ]
     },
     "execution_count": 23,
     "metadata": {},
     "output_type": "execute_result"
    }
   ],
   "source": [
    "order['Lineitem fulfillment status']"
   ]
  }
 ],
 "metadata": {
  "kernelspec": {
   "display_name": "Python 2",
   "language": "python",
   "name": "python2"
  },
  "language_info": {
   "codemirror_mode": {
    "name": "ipython",
    "version": 2
   },
   "file_extension": ".py",
   "mimetype": "text/x-python",
   "name": "python",
   "nbconvert_exporter": "python",
   "pygments_lexer": "ipython2",
   "version": "2.7.13"
  }
 },
 "nbformat": 4,
 "nbformat_minor": 2
}
